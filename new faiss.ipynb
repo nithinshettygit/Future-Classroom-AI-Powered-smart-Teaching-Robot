{
 "cells": [
  {
   "cell_type": "code",
   "execution_count": 1,
   "id": "c97bb764-77f2-40db-ac1c-8af577ef9be5",
   "metadata": {},
   "outputs": [
    {
     "name": "stdout",
     "output_type": "stream",
     "text": [
      "Defaulting to user installation because normal site-packages is not writeable\n",
      "Requirement already satisfied: sentence-transformers in c:\\users\\m anusha shetty\\appdata\\roaming\\python\\python312\\site-packages (4.1.0)\n",
      "Requirement already satisfied: faiss-cpu in c:\\users\\m anusha shetty\\appdata\\roaming\\python\\python312\\site-packages (1.10.0)\n",
      "Requirement already satisfied: numpy in c:\\users\\m anusha shetty\\appdata\\roaming\\python\\python312\\site-packages (2.2.4)\n",
      "Requirement already satisfied: transformers<5.0.0,>=4.41.0 in c:\\users\\m anusha shetty\\appdata\\roaming\\python\\python312\\site-packages (from sentence-transformers) (4.51.1)\n",
      "Requirement already satisfied: tqdm in c:\\users\\m anusha shetty\\appdata\\roaming\\python\\python312\\site-packages (from sentence-transformers) (4.67.1)\n",
      "Requirement already satisfied: torch>=1.11.0 in c:\\users\\m anusha shetty\\appdata\\roaming\\python\\python312\\site-packages (from sentence-transformers) (2.7.0)\n",
      "Requirement already satisfied: scikit-learn in c:\\users\\m anusha shetty\\appdata\\roaming\\python\\python312\\site-packages (from sentence-transformers) (1.6.1)\n",
      "Requirement already satisfied: scipy in c:\\users\\m anusha shetty\\appdata\\roaming\\python\\python312\\site-packages (from sentence-transformers) (1.15.2)\n",
      "Requirement already satisfied: huggingface-hub>=0.20.0 in c:\\users\\m anusha shetty\\appdata\\roaming\\python\\python312\\site-packages (from sentence-transformers) (0.30.2)\n",
      "Requirement already satisfied: Pillow in c:\\users\\m anusha shetty\\appdata\\roaming\\python\\python312\\site-packages (from sentence-transformers) (10.4.0)\n",
      "Requirement already satisfied: typing_extensions>=4.5.0 in c:\\users\\m anusha shetty\\appdata\\roaming\\python\\python312\\site-packages (from sentence-transformers) (4.12.2)\n",
      "Requirement already satisfied: packaging in c:\\users\\m anusha shetty\\appdata\\roaming\\python\\python312\\site-packages (from faiss-cpu) (24.1)\n",
      "Requirement already satisfied: filelock in c:\\users\\m anusha shetty\\appdata\\roaming\\python\\python312\\site-packages (from huggingface-hub>=0.20.0->sentence-transformers) (3.18.0)\n",
      "Requirement already satisfied: fsspec>=2023.5.0 in c:\\users\\m anusha shetty\\appdata\\roaming\\python\\python312\\site-packages (from huggingface-hub>=0.20.0->sentence-transformers) (2025.3.2)\n",
      "Requirement already satisfied: pyyaml>=5.1 in c:\\users\\m anusha shetty\\appdata\\roaming\\python\\python312\\site-packages (from huggingface-hub>=0.20.0->sentence-transformers) (6.0.2)\n",
      "Requirement already satisfied: requests in c:\\users\\m anusha shetty\\appdata\\roaming\\python\\python312\\site-packages (from huggingface-hub>=0.20.0->sentence-transformers) (2.32.3)\n",
      "Requirement already satisfied: sympy>=1.13.3 in c:\\users\\m anusha shetty\\appdata\\roaming\\python\\python312\\site-packages (from torch>=1.11.0->sentence-transformers) (1.13.3)\n",
      "Requirement already satisfied: networkx in c:\\users\\m anusha shetty\\appdata\\roaming\\python\\python312\\site-packages (from torch>=1.11.0->sentence-transformers) (3.4.2)\n",
      "Requirement already satisfied: jinja2 in c:\\users\\m anusha shetty\\appdata\\roaming\\python\\python312\\site-packages (from torch>=1.11.0->sentence-transformers) (3.1.6)\n",
      "Requirement already satisfied: setuptools in c:\\users\\m anusha shetty\\appdata\\roaming\\python\\python312\\site-packages (from torch>=1.11.0->sentence-transformers) (78.1.0)\n",
      "Requirement already satisfied: colorama in c:\\users\\m anusha shetty\\appdata\\roaming\\python\\python312\\site-packages (from tqdm->sentence-transformers) (0.4.6)\n",
      "Requirement already satisfied: regex!=2019.12.17 in c:\\users\\m anusha shetty\\appdata\\roaming\\python\\python312\\site-packages (from transformers<5.0.0,>=4.41.0->sentence-transformers) (2024.11.6)\n",
      "Requirement already satisfied: tokenizers<0.22,>=0.21 in c:\\users\\m anusha shetty\\appdata\\roaming\\python\\python312\\site-packages (from transformers<5.0.0,>=4.41.0->sentence-transformers) (0.21.1)\n",
      "Requirement already satisfied: safetensors>=0.4.3 in c:\\users\\m anusha shetty\\appdata\\roaming\\python\\python312\\site-packages (from transformers<5.0.0,>=4.41.0->sentence-transformers) (0.5.3)\n",
      "Requirement already satisfied: joblib>=1.2.0 in c:\\users\\m anusha shetty\\appdata\\roaming\\python\\python312\\site-packages (from scikit-learn->sentence-transformers) (1.4.2)\n",
      "Requirement already satisfied: threadpoolctl>=3.1.0 in c:\\users\\m anusha shetty\\appdata\\roaming\\python\\python312\\site-packages (from scikit-learn->sentence-transformers) (3.6.0)\n",
      "Requirement already satisfied: mpmath<1.4,>=1.1.0 in c:\\users\\m anusha shetty\\appdata\\roaming\\python\\python312\\site-packages (from sympy>=1.13.3->torch>=1.11.0->sentence-transformers) (1.3.0)\n",
      "Requirement already satisfied: MarkupSafe>=2.0 in c:\\users\\m anusha shetty\\appdata\\roaming\\python\\python312\\site-packages (from jinja2->torch>=1.11.0->sentence-transformers) (3.0.2)\n",
      "Requirement already satisfied: charset-normalizer<4,>=2 in c:\\users\\m anusha shetty\\appdata\\roaming\\python\\python312\\site-packages (from requests->huggingface-hub>=0.20.0->sentence-transformers) (3.4.1)\n",
      "Requirement already satisfied: idna<4,>=2.5 in c:\\users\\m anusha shetty\\appdata\\roaming\\python\\python312\\site-packages (from requests->huggingface-hub>=0.20.0->sentence-transformers) (3.10)\n",
      "Requirement already satisfied: urllib3<3,>=1.21.1 in c:\\users\\m anusha shetty\\appdata\\roaming\\python\\python312\\site-packages (from requests->huggingface-hub>=0.20.0->sentence-transformers) (2.3.0)\n",
      "Requirement already satisfied: certifi>=2017.4.17 in c:\\users\\m anusha shetty\\appdata\\roaming\\python\\python312\\site-packages (from requests->huggingface-hub>=0.20.0->sentence-transformers) (2025.1.31)\n",
      "Note: you may need to restart the kernel to use updated packages.\n"
     ]
    }
   ],
   "source": [
    "pip install sentence-transformers faiss-cpu numpy\n"
   ]
  },
  {
   "cell_type": "code",
   "execution_count": 1,
   "id": "c91afa0d-6533-407e-b5ad-13112cf7b042",
   "metadata": {},
   "outputs": [],
   "source": [
    "import json\n",
    "\n",
    "with open(\"metadata.json\", \"r\") as f:\n",
    "    metadata = json.load(f)\n",
    "\n",
    "titles = [entry[\"title\"] for entry in metadata]\n"
   ]
  },
  {
   "cell_type": "code",
   "execution_count": 2,
   "id": "a4d2cdba-84b9-4133-9ddc-4a54c4f363d1",
   "metadata": {},
   "outputs": [
    {
     "name": "stderr",
     "output_type": "stream",
     "text": [
      "Xet Storage is enabled for this repo, but the 'hf_xet' package is not installed. Falling back to regular HTTP download. For better performance, install the package with: `pip install huggingface_hub[hf_xet]` or `pip install hf_xet`\n"
     ]
    },
    {
     "data": {
      "application/vnd.jupyter.widget-view+json": {
       "model_id": "622a3ecf8fed4a038c612821569a5edf",
       "version_major": 2,
       "version_minor": 0
      },
      "text/plain": [
       "model.safetensors:  75%|#######5  | 199M/265M [00:00<?, ?B/s]"
      ]
     },
     "metadata": {},
     "output_type": "display_data"
    },
    {
     "name": "stderr",
     "output_type": "stream",
     "text": [
      "C:\\Users\\M ANUSHA SHETTY\\AppData\\Roaming\\Python\\Python312\\site-packages\\huggingface_hub\\file_download.py:144: UserWarning: `huggingface_hub` cache-system uses symlinks by default to efficiently store duplicated files but your machine does not support them in C:\\Users\\M ANUSHA SHETTY\\.cache\\huggingface\\hub\\models--sentence-transformers--msmarco-distilbert-base-v4. Caching files will still work but in a degraded version that might require more space on your disk. This warning can be disabled by setting the `HF_HUB_DISABLE_SYMLINKS_WARNING` environment variable. For more details, see https://huggingface.co/docs/huggingface_hub/how-to-cache#limitations.\n",
      "To support symlinks on Windows, you either need to activate Developer Mode or to run Python as an administrator. In order to activate developer mode, see this article: https://docs.microsoft.com/en-us/windows/apps/get-started/enable-your-device-for-development\n",
      "  warnings.warn(message)\n"
     ]
    },
    {
     "data": {
      "application/vnd.jupyter.widget-view+json": {
       "model_id": "413c5307eb9f4b07854980745c7f514f",
       "version_major": 2,
       "version_minor": 0
      },
      "text/plain": [
       "tokenizer_config.json:   0%|          | 0.00/319 [00:00<?, ?B/s]"
      ]
     },
     "metadata": {},
     "output_type": "display_data"
    },
    {
     "data": {
      "application/vnd.jupyter.widget-view+json": {
       "model_id": "d722a253213e44faac2e431d8536eb31",
       "version_major": 2,
       "version_minor": 0
      },
      "text/plain": [
       "vocab.txt:   0%|          | 0.00/232k [00:00<?, ?B/s]"
      ]
     },
     "metadata": {},
     "output_type": "display_data"
    },
    {
     "data": {
      "application/vnd.jupyter.widget-view+json": {
       "model_id": "04674d2000ef45249f46f0a6644e7e80",
       "version_major": 2,
       "version_minor": 0
      },
      "text/plain": [
       "tokenizer.json:   0%|          | 0.00/466k [00:00<?, ?B/s]"
      ]
     },
     "metadata": {},
     "output_type": "display_data"
    },
    {
     "data": {
      "application/vnd.jupyter.widget-view+json": {
       "model_id": "851a49c35f1e4e419277594216914c08",
       "version_major": 2,
       "version_minor": 0
      },
      "text/plain": [
       "special_tokens_map.json:   0%|          | 0.00/112 [00:00<?, ?B/s]"
      ]
     },
     "metadata": {},
     "output_type": "display_data"
    },
    {
     "data": {
      "application/vnd.jupyter.widget-view+json": {
       "model_id": "6f8cdb5a9f824eac9d3ceafe50083894",
       "version_major": 2,
       "version_minor": 0
      },
      "text/plain": [
       "config.json:   0%|          | 0.00/190 [00:00<?, ?B/s]"
      ]
     },
     "metadata": {},
     "output_type": "display_data"
    }
   ],
   "source": [
    "from sentence_transformers import SentenceTransformer\n",
    "\n",
    "model = SentenceTransformer(\"msmarco-distilbert-base-v4\")\n"
   ]
  },
  {
   "cell_type": "code",
   "execution_count": 4,
   "id": "9cef7bb3-2aa9-4cca-859d-c57ff59e316d",
   "metadata": {},
   "outputs": [
    {
     "data": {
      "application/vnd.jupyter.widget-view+json": {
       "model_id": "25e2653a5d2b4678bcd465d9ab6f6793",
       "version_major": 2,
       "version_minor": 0
      },
      "text/plain": [
       "Batches:   0%|          | 0/4 [00:00<?, ?it/s]"
      ]
     },
     "metadata": {},
     "output_type": "display_data"
    }
   ],
   "source": [
    "import numpy as np\n",
    "import faiss\n",
    "\n",
    "# Generate embeddings\n",
    "embeddings = model.encode(titles, convert_to_numpy=True, show_progress_bar=True)\n",
    "\n",
    "# Create Faiss index\n",
    "dimension = embeddings.shape[1]\n",
    "index = faiss.IndexFlatL2(dimension)\n",
    "index.add(embeddings)\n",
    "\n",
    "np.save(\"title_embeddings.npy\", embeddings)\n",
    "faiss.write_index(index, \"faiss_index_ms_marco.index\")"
   ]
  },
  {
   "cell_type": "code",
   "execution_count": 5,
   "id": "f0429131-e5fe-4088-9008-42762af6ecca",
   "metadata": {},
   "outputs": [],
   "source": [
    "embeddings = np.load(\"title_embeddings.npy\")\n",
    "index      = faiss.read_index(\"faiss_index_ms_marco.index\")\n",
    "# reload model & metadata, then define search()…\n"
   ]
  },
  {
   "cell_type": "code",
   "execution_count": 6,
   "id": "fec5f045-9196-4ce7-b0ba-995346236908",
   "metadata": {},
   "outputs": [
    {
     "name": "stdout",
     "output_type": "stream",
     "text": [
      "{'title': '2.1.1 Acids and Bases in the Laboratory', 'chapter': '2 CHAPTER', 'score': 64.59967041015625}\n",
      "{'title': '2.1 UNDERSTANDING THE CHEICAL PROPERTIES OF ACIDS AND BASES', 'chapter': '2 CHAPTER', 'score': 114.44064331054688}\n",
      "{'title': '2.1.4 How do Acids and Bases React with each other?', 'chapter': '2 CHAPTER', 'score': 148.95782470703125}\n"
     ]
    }
   ],
   "source": [
    "def search(query, top_k=3):\n",
    "    # 1. Embed the query\n",
    "    q_emb = model.encode([query], convert_to_numpy=True)\n",
    "    # 2. Retrieve from Faiss\n",
    "    distances, indices = index.search(q_emb, top_k)\n",
    "    # 3. Format results\n",
    "    return [\n",
    "        {\n",
    "            \"title\":    metadata[i][\"title\"],\n",
    "            \"chapter\":  metadata[i][\"chapter\"],\n",
    "            \"score\":    float(distances[0][j])\n",
    "        }\n",
    "        for j, i in enumerate(indices[0])\n",
    "    ]\n",
    "results = search(\"Acids and Bases in Laboratory\", top_k=3)\n",
    "for r in results:\n",
    "    print(r)\n"
   ]
  },
  {
   "cell_type": "markdown",
   "id": "9e1a7c96-db4a-4e8b-8405-5cc39e69aa70",
   "metadata": {},
   "source": [
    "## normalize and search\n"
   ]
  },
  {
   "cell_type": "code",
   "execution_count": 10,
   "id": "8009f027-d045-49ca-8e26-17adfb07495f",
   "metadata": {},
   "outputs": [
    {
     "name": "stdout",
     "output_type": "stream",
     "text": [
      "{'title': '13.4 ELECTRIC MOTOR', 'chapter': '13 CHAPTER', 'cosine_sim': 0.5492956638336182}\n",
      "{'title': '12.8 ELECTRIC POWER', 'chapter': '12 CHAPTER', 'cosine_sim': 0.5454273223876953}\n",
      "{'title': '13.6 ELECTRIC GENERATOR', 'chapter': '13 CHAPTER', 'cosine_sim': 0.4917614459991455}\n"
     ]
    }
   ],
   "source": [
    "import faiss\n",
    "import numpy as np\n",
    "\n",
    "# — After you’ve computed `embeddings` as before —\n",
    "\n",
    "# 1. Normalize embeddings to unit length\n",
    "faiss.normalize_L2(embeddings)\n",
    "\n",
    "# 2. Build an inner-product index instead of L2\n",
    "dim   = embeddings.shape[1]\n",
    "index = faiss.IndexFlatIP(dim)\n",
    "index.add(embeddings)\n",
    "\n",
    "# 3. When you search, normalize the query too:\n",
    "def search_cosine(query, top_k=3):\n",
    "    # a) embed\n",
    "    q_emb = model.encode([query], convert_to_numpy=True)\n",
    "    # b) normalize\n",
    "    faiss.normalize_L2(q_emb)\n",
    "    # c) search inner product (returns highest similarity first)\n",
    "    distances, indices = index.search(q_emb, top_k)\n",
    "    return [\n",
    "        {\n",
    "            \"title\":   metadata[i][\"title\"],\n",
    "            \"chapter\": metadata[i][\"chapter\"],\n",
    "            # distances[j] is now the cosine similarity (between 0 and 1)\n",
    "            \"cosine_sim\": float(distances[0][j])\n",
    "        }\n",
    "        for j, i in enumerate(indices[0])\n",
    "    ]\n",
    "\n",
    "# 4. Try it out:\n",
    "for r in search_cosine(\"electric \", top_k=3):\n",
    "    print(r)\n"
   ]
  },
  {
   "cell_type": "markdown",
   "id": "c5726581-d502-4280-9668-c71f99461e41",
   "metadata": {},
   "source": [
    "## cosine similarity is used here\n",
    "### Cosine similarity\tCosine of the angle between two vectors (after normalizing)\tHigher = more similar (smaller angle)\n",
    "### Cosine similarity, by normalizing vectors, ignores magnitude and focuses purely on “direction” (semantic content)."
   ]
  },
  {
   "cell_type": "code",
   "execution_count": null,
   "id": "d2533325-ab6c-44a5-bbec-871efddfba04",
   "metadata": {},
   "outputs": [],
   "source": []
  }
 ],
 "metadata": {
  "kernelspec": {
   "display_name": "Python 3 (ipykernel)",
   "language": "python",
   "name": "python3"
  },
  "language_info": {
   "codemirror_mode": {
    "name": "ipython",
    "version": 3
   },
   "file_extension": ".py",
   "mimetype": "text/x-python",
   "name": "python",
   "nbconvert_exporter": "python",
   "pygments_lexer": "ipython3",
   "version": "3.12.4"
  }
 },
 "nbformat": 4,
 "nbformat_minor": 5
}
