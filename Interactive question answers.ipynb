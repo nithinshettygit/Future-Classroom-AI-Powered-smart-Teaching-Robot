{
 "cells": [
  {
   "cell_type": "code",
   "execution_count": 2,
   "id": "341f2083-f5fb-40e6-b4e1-5a6c733226af",
   "metadata": {},
   "outputs": [
    {
     "name": "stdout",
     "output_type": "stream",
     "text": [
      "Collecting groq\n",
      "  Downloading groq-0.24.0-py3-none-any.whl.metadata (15 kB)\n",
      "Requirement already satisfied: anyio<5,>=3.5.0 in c:\\users\\rolso\\appdata\\local\\programs\\python\\python311\\lib\\site-packages (from groq) (4.9.0)\n",
      "Collecting distro<2,>=1.7.0 (from groq)\n",
      "  Downloading distro-1.9.0-py3-none-any.whl.metadata (6.8 kB)\n",
      "Requirement already satisfied: httpx<1,>=0.23.0 in c:\\users\\rolso\\appdata\\local\\programs\\python\\python311\\lib\\site-packages (from groq) (0.28.1)\n",
      "Collecting pydantic<3,>=1.9.0 (from groq)\n",
      "  Downloading pydantic-2.11.4-py3-none-any.whl.metadata (66 kB)\n",
      "Requirement already satisfied: sniffio in c:\\users\\rolso\\appdata\\local\\programs\\python\\python311\\lib\\site-packages (from groq) (1.3.1)\n",
      "Requirement already satisfied: typing-extensions<5,>=4.10 in c:\\users\\rolso\\appdata\\local\\programs\\python\\python311\\lib\\site-packages (from groq) (4.13.0)\n",
      "Requirement already satisfied: idna>=2.8 in c:\\users\\rolso\\appdata\\local\\programs\\python\\python311\\lib\\site-packages (from anyio<5,>=3.5.0->groq) (3.10)\n",
      "Requirement already satisfied: certifi in c:\\users\\rolso\\appdata\\local\\programs\\python\\python311\\lib\\site-packages (from httpx<1,>=0.23.0->groq) (2025.1.31)\n",
      "Requirement already satisfied: httpcore==1.* in c:\\users\\rolso\\appdata\\local\\programs\\python\\python311\\lib\\site-packages (from httpx<1,>=0.23.0->groq) (1.0.7)\n",
      "Requirement already satisfied: h11<0.15,>=0.13 in c:\\users\\rolso\\appdata\\local\\programs\\python\\python311\\lib\\site-packages (from httpcore==1.*->httpx<1,>=0.23.0->groq) (0.14.0)\n",
      "Collecting annotated-types>=0.6.0 (from pydantic<3,>=1.9.0->groq)\n",
      "  Downloading annotated_types-0.7.0-py3-none-any.whl.metadata (15 kB)\n",
      "Collecting pydantic-core==2.33.2 (from pydantic<3,>=1.9.0->groq)\n",
      "  Downloading pydantic_core-2.33.2-cp311-cp311-win_amd64.whl.metadata (6.9 kB)\n",
      "Collecting typing-inspection>=0.4.0 (from pydantic<3,>=1.9.0->groq)\n",
      "  Downloading typing_inspection-0.4.0-py3-none-any.whl.metadata (2.6 kB)\n",
      "Downloading groq-0.24.0-py3-none-any.whl (127 kB)\n",
      "Downloading distro-1.9.0-py3-none-any.whl (20 kB)\n",
      "Downloading pydantic-2.11.4-py3-none-any.whl (443 kB)\n",
      "Downloading pydantic_core-2.33.2-cp311-cp311-win_amd64.whl (2.0 MB)\n",
      "   ---------------------------------------- 0.0/2.0 MB ? eta -:--:--\n",
      "   -------------------------- ------------- 1.3/2.0 MB 6.1 MB/s eta 0:00:01\n",
      "   ---------------------------------------- 2.0/2.0 MB 6.0 MB/s eta 0:00:00\n",
      "Downloading annotated_types-0.7.0-py3-none-any.whl (13 kB)\n",
      "Downloading typing_inspection-0.4.0-py3-none-any.whl (14 kB)\n",
      "Installing collected packages: typing-inspection, pydantic-core, distro, annotated-types, pydantic, groq\n",
      "Successfully installed annotated-types-0.7.0 distro-1.9.0 groq-0.24.0 pydantic-2.11.4 pydantic-core-2.33.2 typing-inspection-0.4.0\n",
      "Note: you may need to restart the kernel to use updated packages.\n"
     ]
    },
    {
     "name": "stderr",
     "output_type": "stream",
     "text": [
      "\n",
      "[notice] A new release of pip is available: 25.0.1 -> 25.1.1\n",
      "[notice] To update, run: python.exe -m pip install --upgrade pip\n"
     ]
    }
   ],
   "source": [
    "pip install groq"
   ]
  },
  {
   "cell_type": "code",
   "execution_count": null,
   "id": "69ec66ba-d8a3-4462-a124-8c6a17c14f17",
   "metadata": {},
   "outputs": [],
   "source": []
  },
  {
   "cell_type": "code",
   "execution_count": null,
   "id": "b737fe50-fa90-4c22-98f2-21e67541e451",
   "metadata": {},
   "outputs": [],
   "source": []
  },
  {
   "cell_type": "markdown",
   "id": "a8f10668-9e1d-4c62-89f7-45168928991b",
   "metadata": {},
   "source": [
    "## Interactive question answer\n"
   ]
  },
  {
   "cell_type": "code",
   "execution_count": null,
   "id": "e960cd69-024b-4e2f-881f-c24502213561",
   "metadata": {},
   "outputs": [
    {
     "name": "stdout",
     "output_type": "stream",
     "text": [
      "📚 AI Teaching Robot is ready.\n",
      "\n"
     ]
    },
    {
     "name": "stdin",
     "output_type": "stream",
     "text": [
      "🎧 Student says:  what is electric power\n"
     ]
    },
    {
     "name": "stdout",
     "output_type": "stream",
     "text": [
      "🗣️ AI says: Electric power is the rate at which electric energy is transferred or used. It's measured in watts (W) and represents the amount of work that can be done by an electric current over a given period of time.\n",
      "\n",
      "Think of it like water flowing through a hose. The amount of water flowing through the hose is like the electric current, and the pressure of the water is like the voltage. Just as the pressure of the water can make the water flow faster or slower, the voltage of an electric current can make it flow more or less.\n",
      "\n",
      "For example, if you have a 100-watt light bulb, it means that it can use 100 joules of electric energy to produce light, heat, or whatever it does over a period of time, usually measured in seconds.\n",
      "\n",
      "Did you understand?\n"
     ]
    },
    {
     "name": "stdin",
     "output_type": "stream",
     "text": [
      "🎧 Student says:  i didnt get it\n"
     ]
    },
    {
     "name": "stdout",
     "output_type": "stream",
     "text": [
      "🗣️ AI says: Let me try to simplify it with a real-life example.\n",
      "\n",
      "Imagine you're filling up a bucket with water. The flow rate of water from the hose is like the electric current. It can flow fast or slow, depending on the water pressure (or voltage) from the hose.\n",
      "\n",
      "The electric power would be like the work done by the water flow. For example, if you have a small bucket and turn on the hose at a gentle flow rate, you might fill up the bucket quickly. But if you have a large bucket, you might need to turn up the hose to a faster flow rate to fill it up in the same amount of time.\n",
      "\n",
      "In this case, the flow rate (water flowing) is like the electric current, and the work done (filling up the bucket) is like the electric power. Make sense?\n",
      "\n",
      "Did you understand now?\n"
     ]
    },
    {
     "name": "stdin",
     "output_type": "stream",
     "text": [
      "🎧 Student says:  still confuesd\n"
     ]
    },
    {
     "name": "stdout",
     "output_type": "stream",
     "text": [
      "🗣️ AI says: No worries! Let me try again.\n",
      "\n",
      "Think of electric power like a machine that does work for you. Like a washing machine, it uses electric energy to wash your clothes.\n",
      "\n",
      "The machine's motor uses electric current (flow rate) and electric voltage (pressure) to turn the drum and make the clothes clean. The more powerful the machine, the more work it can do (like washing a bigger load of clothes).\n",
      "\n",
      "Electric power, measured in watts (W), tells you how much work the machine can do in a given time. So, a 1000-watt washing machine can do more work (like washing a bigger or thicker load) than a 500-watt machine.\n",
      "\n",
      "Does this example help clarify what electric power is?\n",
      "\n",
      "(By the way, I can try to come up with another example if this one still doesn't click.)\n"
     ]
    }
   ],
   "source": [
    "import groq\n",
    "\n",
    "client = groq.Groq(api_key=\"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\")\n",
    "\n",
    "def speak(text):\n",
    "    print(\"🗣️ AI says:\", text)\n",
    "\n",
    "def listen():\n",
    "    return input(\"🎧 Student says: \")\n",
    "\n",
    "# Conversation starts with system prompt\n",
    "conversation_history = [\n",
    "    {\n",
    "        \"role\": \"system\",\n",
    "        \"content\": (\n",
    "            \"You are a helpful AI teacher. You must:\"\n",
    "            \"\\n- Answer the student's questions clearly.\"\n",
    "            \"\\n- Ask a follow-up like 'Did you understand?'\"\n",
    "            \"\\n- If the student says they don’t understand, simplify with real-life examples.\"\n",
    "            \"\\n- Don’t just continue the lesson unless the student confirms understanding.\"\n",
    "        )\n",
    "    }\n",
    "]\n",
    "\n",
    "def gpt_response():\n",
    "    response = client.chat.completions.create(\n",
    "        model=\"llama3-8b-8192\",\n",
    "        messages=conversation_history\n",
    "    )\n",
    "    return response.choices[0].message.content.strip()\n",
    "\n",
    "def ai_teaching_loop():\n",
    "    print(\"📚 AI Teaching Robot is ready.\\n\")\n",
    "    \n",
    "    while True:\n",
    "        user_input = listen()\n",
    "        conversation_history.append({\"role\": \"user\", \"content\": user_input})\n",
    "        \n",
    "        response = gpt_response()\n",
    "        conversation_history.append({\"role\": \"assistant\", \"content\": response})\n",
    "        \n",
    "        speak(response)\n",
    "        \n",
    "        # Exit condition (optional)\n",
    "        if \"resume\" in user_input.lower() or \"next topic\" in user_input.lower():\n",
    "            speak(\"Resuming lesson...\")\n",
    "            break\n",
    "\n",
    "# Start\n",
    "ai_teaching_loop()\n"
   ]
  },
  {
   "cell_type": "code",
   "execution_count": null,
   "id": "b4b6e287-4205-42f9-9f50-feef2371350b",
   "metadata": {},
   "outputs": [],
   "source": []
  }
 ],
 "metadata": {
  "kernelspec": {
   "display_name": "Python 3 (ipykernel)",
   "language": "python",
   "name": "python3"
  },
  "language_info": {
   "codemirror_mode": {
    "name": "ipython",
    "version": 3
   },
   "file_extension": ".py",
   "mimetype": "text/x-python",
   "name": "python",
   "nbconvert_exporter": "python",
   "pygments_lexer": "ipython3",
   "version": "3.11.0"
  }
 },
 "nbformat": 4,
 "nbformat_minor": 5
}
