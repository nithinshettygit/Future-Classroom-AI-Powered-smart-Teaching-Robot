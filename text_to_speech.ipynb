{
 "cells": [
  {
   "cell_type": "code",
   "execution_count": null,
   "id": "5cf1cdb4-491f-4986-825c-d7f9d47d1f4f",
   "metadata": {},
   "outputs": [],
   "source": [
    "import edge_tts\n",
    "\n",
    "# Jupyter-specific async handling\n",
    "async def text_to_speech():\n",
    "    communicate = edge_tts.Communicate(\n",
    "        text=\"\"\"**Introduction:**\n",
    "\n",
    "    Imagine you're standing next to a long electric wire carrying current. You might wonder: \n",
    "    Does this wire have any effect on the space around it? Well, just like a magnet creates \n",
    "    a magnetic field, an electric current does the same! \n",
    "    \n",
    "    Scientists discovered a simple way to figure out the direction of this magnetic field, \n",
    "    and it's called the Right-Hand Thumb Rule.\n",
    "    \n",
    "\n",
    "**AI Explanation:**\n",
    "Let's Dive into the World of Magnets!\n",
    "\n",
    "Imagine you're a superhero with the power to control magnets. You're on a mission to save the city from evil robots that are disrupting the magnetic fields around the city's power lines. But, how do you know which direction the magnetic field is flowing?\n",
    "\n",
    "That's where the Right-Hand Thumb Rule comes in! It's a simple trick to help you figure out the direction of the magnetic field around a current-carrying conductor.\n",
    "\n",
    "Let's watch a video to get a better understanding of this concept:\n",
    "\n",
    "\"\"\"\n",
    ", \n",
    "        voice=\"hi-IN-SwaraNeural\",\n",
    "        pitch=\"-10Hz\",\n",
    "        \n",
    "        volume=\"+100%\"\n",
    "    )\n",
    "    await communicate.save(\"test3.mp3\")\n",
    "\n",
    "# Use this instead of asyncio.run()\n",
    "await text_to_speech()  # Directly await in Jupyter cell"
   ]
  }
 ],
 "metadata": {
  "kernelspec": {
   "display_name": "Python 3.10 (Jupyter)",
   "language": "python",
   "name": "python310"
  },
  "language_info": {
   "codemirror_mode": {
    "name": "ipython",
    "version": 3
   },
   "file_extension": ".py",
   "mimetype": "text/x-python",
   "name": "python",
   "nbconvert_exporter": "python",
   "pygments_lexer": "ipython3",
   "version": "3.12.3"
  }
 },
 "nbformat": 4,
 "nbformat_minor": 5
}
