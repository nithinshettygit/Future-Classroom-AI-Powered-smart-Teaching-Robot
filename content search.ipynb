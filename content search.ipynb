{
 "cells": [
  {
   "cell_type": "code",
   "execution_count": 1,
   "id": "c97bb764-77f2-40db-ac1c-8af577ef9be5",
   "metadata": {},
   "outputs": [
    {
     "name": "stdout",
     "output_type": "stream",
     "text": [
      "Defaulting to user installation because normal site-packages is not writeable\n",
      "Requirement already satisfied: sentence-transformers in c:\\users\\m anusha shetty\\appdata\\roaming\\python\\python312\\site-packages (4.1.0)\n",
      "Requirement already satisfied: faiss-cpu in c:\\users\\m anusha shetty\\appdata\\roaming\\python\\python312\\site-packages (1.10.0)\n",
      "Requirement already satisfied: numpy in c:\\users\\m anusha shetty\\appdata\\roaming\\python\\python312\\site-packages (2.2.4)\n",
      "Requirement already satisfied: transformers<5.0.0,>=4.41.0 in c:\\users\\m anusha shetty\\appdata\\roaming\\python\\python312\\site-packages (from sentence-transformers) (4.51.1)\n",
      "Requirement already satisfied: tqdm in c:\\users\\m anusha shetty\\appdata\\roaming\\python\\python312\\site-packages (from sentence-transformers) (4.67.1)\n",
      "Requirement already satisfied: torch>=1.11.0 in c:\\users\\m anusha shetty\\appdata\\roaming\\python\\python312\\site-packages (from sentence-transformers) (2.7.0)\n",
      "Requirement already satisfied: scikit-learn in c:\\users\\m anusha shetty\\appdata\\roaming\\python\\python312\\site-packages (from sentence-transformers) (1.6.1)\n",
      "Requirement already satisfied: scipy in c:\\users\\m anusha shetty\\appdata\\roaming\\python\\python312\\site-packages (from sentence-transformers) (1.15.2)\n",
      "Requirement already satisfied: huggingface-hub>=0.20.0 in c:\\users\\m anusha shetty\\appdata\\roaming\\python\\python312\\site-packages (from sentence-transformers) (0.30.2)\n",
      "Requirement already satisfied: Pillow in c:\\users\\m anusha shetty\\appdata\\roaming\\python\\python312\\site-packages (from sentence-transformers) (10.4.0)\n",
      "Requirement already satisfied: typing_extensions>=4.5.0 in c:\\users\\m anusha shetty\\appdata\\roaming\\python\\python312\\site-packages (from sentence-transformers) (4.12.2)\n",
      "Requirement already satisfied: packaging in c:\\users\\m anusha shetty\\appdata\\roaming\\python\\python312\\site-packages (from faiss-cpu) (24.1)\n",
      "Requirement already satisfied: filelock in c:\\users\\m anusha shetty\\appdata\\roaming\\python\\python312\\site-packages (from huggingface-hub>=0.20.0->sentence-transformers) (3.18.0)\n",
      "Requirement already satisfied: fsspec>=2023.5.0 in c:\\users\\m anusha shetty\\appdata\\roaming\\python\\python312\\site-packages (from huggingface-hub>=0.20.0->sentence-transformers) (2025.3.2)\n",
      "Requirement already satisfied: pyyaml>=5.1 in c:\\users\\m anusha shetty\\appdata\\roaming\\python\\python312\\site-packages (from huggingface-hub>=0.20.0->sentence-transformers) (6.0.2)\n",
      "Requirement already satisfied: requests in c:\\users\\m anusha shetty\\appdata\\roaming\\python\\python312\\site-packages (from huggingface-hub>=0.20.0->sentence-transformers) (2.32.3)\n",
      "Requirement already satisfied: sympy>=1.13.3 in c:\\users\\m anusha shetty\\appdata\\roaming\\python\\python312\\site-packages (from torch>=1.11.0->sentence-transformers) (1.13.3)\n",
      "Requirement already satisfied: networkx in c:\\users\\m anusha shetty\\appdata\\roaming\\python\\python312\\site-packages (from torch>=1.11.0->sentence-transformers) (3.4.2)\n",
      "Requirement already satisfied: jinja2 in c:\\users\\m anusha shetty\\appdata\\roaming\\python\\python312\\site-packages (from torch>=1.11.0->sentence-transformers) (3.1.6)\n",
      "Requirement already satisfied: setuptools in c:\\users\\m anusha shetty\\appdata\\roaming\\python\\python312\\site-packages (from torch>=1.11.0->sentence-transformers) (78.1.0)\n",
      "Requirement already satisfied: colorama in c:\\users\\m anusha shetty\\appdata\\roaming\\python\\python312\\site-packages (from tqdm->sentence-transformers) (0.4.6)\n",
      "Requirement already satisfied: regex!=2019.12.17 in c:\\users\\m anusha shetty\\appdata\\roaming\\python\\python312\\site-packages (from transformers<5.0.0,>=4.41.0->sentence-transformers) (2024.11.6)\n",
      "Requirement already satisfied: tokenizers<0.22,>=0.21 in c:\\users\\m anusha shetty\\appdata\\roaming\\python\\python312\\site-packages (from transformers<5.0.0,>=4.41.0->sentence-transformers) (0.21.1)\n",
      "Requirement already satisfied: safetensors>=0.4.3 in c:\\users\\m anusha shetty\\appdata\\roaming\\python\\python312\\site-packages (from transformers<5.0.0,>=4.41.0->sentence-transformers) (0.5.3)\n",
      "Requirement already satisfied: joblib>=1.2.0 in c:\\users\\m anusha shetty\\appdata\\roaming\\python\\python312\\site-packages (from scikit-learn->sentence-transformers) (1.4.2)\n",
      "Requirement already satisfied: threadpoolctl>=3.1.0 in c:\\users\\m anusha shetty\\appdata\\roaming\\python\\python312\\site-packages (from scikit-learn->sentence-transformers) (3.6.0)\n",
      "Requirement already satisfied: mpmath<1.4,>=1.1.0 in c:\\users\\m anusha shetty\\appdata\\roaming\\python\\python312\\site-packages (from sympy>=1.13.3->torch>=1.11.0->sentence-transformers) (1.3.0)\n",
      "Requirement already satisfied: MarkupSafe>=2.0 in c:\\users\\m anusha shetty\\appdata\\roaming\\python\\python312\\site-packages (from jinja2->torch>=1.11.0->sentence-transformers) (3.0.2)\n",
      "Requirement already satisfied: charset-normalizer<4,>=2 in c:\\users\\m anusha shetty\\appdata\\roaming\\python\\python312\\site-packages (from requests->huggingface-hub>=0.20.0->sentence-transformers) (3.4.1)\n",
      "Requirement already satisfied: idna<4,>=2.5 in c:\\users\\m anusha shetty\\appdata\\roaming\\python\\python312\\site-packages (from requests->huggingface-hub>=0.20.0->sentence-transformers) (3.10)\n",
      "Requirement already satisfied: urllib3<3,>=1.21.1 in c:\\users\\m anusha shetty\\appdata\\roaming\\python\\python312\\site-packages (from requests->huggingface-hub>=0.20.0->sentence-transformers) (2.3.0)\n",
      "Requirement already satisfied: certifi>=2017.4.17 in c:\\users\\m anusha shetty\\appdata\\roaming\\python\\python312\\site-packages (from requests->huggingface-hub>=0.20.0->sentence-transformers) (2025.1.31)\n",
      "Note: you may need to restart the kernel to use updated packages.\n"
     ]
    }
   ],
   "source": [
    "pip install sentence-transformers faiss-cpu numpy\n"
   ]
  },
  {
   "cell_type": "code",
   "execution_count": 2,
   "id": "c91afa0d-6533-407e-b5ad-13112cf7b042",
   "metadata": {},
   "outputs": [],
   "source": []
  },
  {
   "cell_type": "code",
   "execution_count": 3,
   "id": "a4d2cdba-84b9-4133-9ddc-4a54c4f363d1",
   "metadata": {},
   "outputs": [],
   "source": []
  },
  {
   "cell_type": "code",
   "execution_count": 9,
   "id": "9cef7bb3-2aa9-4cca-859d-c57ff59e316d",
   "metadata": {},
   "outputs": [
    {
     "data": {
      "application/vnd.jupyter.widget-view+json": {
       "model_id": "6a402ad3c73a45a2b1bc1b4139ebc0fd",
       "version_major": 2,
       "version_minor": 0
      },
      "text/plain": [
       "Batches:   0%|          | 0/4 [00:00<?, ?it/s]"
      ]
     },
     "metadata": {},
     "output_type": "display_data"
    }
   ],
   "source": [
    "import numpy as np\n",
    "import faiss\n",
    "\n",
    "# Generate embeddings\n",
    "embeddings = model.encode(titles, convert_to_numpy=True, show_progress_bar=True)\n",
    "\n",
    "# Create Faiss index\n",
    "dimension = embeddings.shape[1]\n",
    "index = faiss.IndexFlatL2(dimension)\n",
    "index.add(embeddings)\n",
    "\n",
    "np.save(\"title_embeddings.npy\", embeddings)\n",
    "faiss.write_index(index, \"faiss_index_ms_marco.index\")"
   ]
  },
  {
   "cell_type": "markdown",
   "id": "c5726581-d502-4280-9668-c71f99461e41",
   "metadata": {},
   "source": [
    "## cosine similarity is used here\n",
    "### Cosine similarity\tCosine of the angle between two vectors (after normalizing)\tHigher = more similar (smaller angle)\n",
    "### Cosine similarity, by normalizing vectors, ignores magnitude and focuses purely on “direction” (semantic content)."
   ]
  },
  {
   "cell_type": "markdown",
   "id": "9ae57044-90d7-4cf5-9ee5-d3ac334e6f74",
   "metadata": {},
   "source": [
    "## metadata.json open"
   ]
  },
  {
   "cell_type": "code",
   "execution_count": null,
   "id": "a03ba640-ba1a-450f-88ee-ae73da97c731",
   "metadata": {},
   "outputs": [],
   "source": [
    "import json\n",
    "\n",
    "with open(\"metadata.json\", \"r\") as f:\n",
    "    metadata = json.load(f)\n",
    "\n",
    "titles = [entry[\"title\"] for entry in metadata]\n"
   ]
  },
  {
   "cell_type": "markdown",
   "id": "c7aa0c13-5f5d-4ba8-a9a4-349878ec19c4",
   "metadata": {},
   "source": [
    "## sentence transformers\n"
   ]
  },
  {
   "cell_type": "code",
   "execution_count": null,
   "id": "2e5e9a51-6e28-4c0f-ab15-2334872d2898",
   "metadata": {},
   "outputs": [],
   "source": [
    "from sentence_transformers import SentenceTransformer\n",
    "\n",
    "model = SentenceTransformer(\"msmarco-distilbert-base-v4\")\n"
   ]
  },
  {
   "cell_type": "markdown",
   "id": "2d44e380-d8a9-4a57-bc7b-b0afcd897ddc",
   "metadata": {},
   "source": [
    "## load embeddings"
   ]
  },
  {
   "cell_type": "code",
   "execution_count": null,
   "id": "3d0a2b19-4dad-4ff0-b024-b49ff72c1dc5",
   "metadata": {},
   "outputs": [],
   "source": [
    "embeddings = np.load(\"title_embeddings.npy\")\n",
    "index      = faiss.read_index(\"faiss_index_ms_marco.index\")\n",
    "# reload model & metadata, then define search()…\n"
   ]
  },
  {
   "cell_type": "markdown",
   "id": "1641e6fc-d2f7-4cb0-a4c7-1b420df0bcdc",
   "metadata": {},
   "source": [
    "## search\n",
    "## threshold applied"
   ]
  },
  {
   "cell_type": "code",
   "execution_count": 30,
   "id": "7c0022d8-1903-48cf-a796-69cfa339488d",
   "metadata": {},
   "outputs": [
    {
     "name": "stdout",
     "output_type": "stream",
     "text": [
      "Content not found in knowledge base.\n"
     ]
    }
   ],
   "source": [
    "import faiss\n",
    "import numpy as np\n",
    "\n",
    "# — After you’ve computed `embeddings` as before —\n",
    "\n",
    "# 1. Normalize embeddings to unit length\n",
    "faiss.normalize_L2(embeddings)\n",
    "\n",
    "# 2. Build an inner-product index instead of L2\n",
    "dim   = embeddings.shape[1]\n",
    "index = faiss.IndexFlatIP(dim)\n",
    "index.add(embeddings)\n",
    "\n",
    "# 3. When you search, normalize the query too:\n",
    "def search_cosine(query, top_k=3, threshold=0.5):\n",
    "    # a) embed\n",
    "    q_emb = model.encode([query], convert_to_numpy=True)\n",
    "    # b) normalize\n",
    "    faiss.normalize_L2(q_emb)\n",
    "    # c) search inner product\n",
    "    distances, indices = index.search(q_emb, top_k)\n",
    "    \n",
    "    results = [\n",
    "        {\n",
    "            \"title\":   metadata[i][\"title\"],\n",
    "            \"chapter\": metadata[i][\"chapter\"],\n",
    "            \"cosine_sim\": float(distances[0][j])\n",
    "        }\n",
    "        for j, i in enumerate(indices[0])\n",
    "        if float(distances[0][j]) >= threshold\n",
    "    ]\n",
    "    \n",
    "    if not results:\n",
    "        return \"Content not found in knowledge base.\"\n",
    "    \n",
    "    return results\n",
    "\n",
    "# 4. Try it out:\n",
    "results = search_cosine(\" newtons law\", top_k=3, threshold=0.5)\n",
    "if isinstance(results, str):\n",
    "    print(results)\n",
    "else:\n",
    "    for r in results:\n",
    "        print(r)\n"
   ]
  },
  {
   "cell_type": "code",
   "execution_count": null,
   "id": "b3c4016e-e5a6-4289-bd0c-4c32dd75bc21",
   "metadata": {},
   "outputs": [],
   "source": []
  }
 ],
 "metadata": {
  "kernelspec": {
   "display_name": "Python 3 (ipykernel)",
   "language": "python",
   "name": "python3"
  },
  "language_info": {
   "codemirror_mode": {
    "name": "ipython",
    "version": 3
   },
   "file_extension": ".py",
   "mimetype": "text/x-python",
   "name": "python",
   "nbconvert_exporter": "python",
   "pygments_lexer": "ipython3",
   "version": "3.12.4"
  }
 },
 "nbformat": 4,
 "nbformat_minor": 5
}
